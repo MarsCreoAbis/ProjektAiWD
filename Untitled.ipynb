{
 "cells": [
  {
   "cell_type": "code",
   "execution_count": 0,
   "id": "66fc9f69-c953-49fa-a573-b26d518e8917",
   "metadata": {},
   "outputs": [],
   "source": [
    "import pandas as pd\n",
    "import numpy as np\n",
    "from scipy import stats\n",
    "import seaborn as sns\n",
    "import scikit_posthocs as sp\n",
    "import matplotlib.pyplot as plt"
   ]
  },
  {
   "cell_type": "code",
   "execution_count": 0,
   "id": "7a5dbe05-1673-4800-8b3d-e9d5975d4ac4",
   "metadata": {},
   "outputs": [],
   "source": [
    "df = pd.read_csv('Expanded_data_with_more_features.csv')\n",
    "df"
   ]
  },
  {
   "cell_type": "markdown",
   "execution_count": 0,
   "id": "66e2fee8-97bc-4268-ba18-ece45e580316",
   "metadata": {},
   "source": [
    "Parent Educ korelacja Writnig Score : Spearman \n",
    "Sport ikorelacja Czas Nauki: Spearman\n",
    "Różnicowanie matmy prze płcie: t-studenta\n",
    "ReadingScore korelation WritnigScore: Pearson\n",
    "Transport róznicuje Ilość Rodzeństwa:  t-studenta\n",
    "\n",
    "Gender: Nominalne\n",
    "EthnicGroup: Nominalne\n",
    "ParentEduc: Porządkowa\n",
    "LunchType: Nominalne\n",
    "TestPrep: Nominalne\n",
    "Math: Ilościowa\n",
    "Reading: Ilościowe\n",
    "Writing: Ilościowe"
   ]
  }
 ],
 "metadata": {
  "kernelspec": {
   "display_name": "Python 3 (ipykernel)",
   "language": "python",
   "name": "python3"
  },
  "language_info": {
   "codemirror_mode": {
    "name": "ipython",
    "version": 3
   },
   "file_extension": ".py",
   "mimetype": "text/x-python",
   "name": "python",
   "nbconvert_exporter": "python",
   "pygments_lexer": "ipython3",
   "version": "3.9.2"
  }
 },
 "nbformat": 4,
 "nbformat_minor": 5
}
